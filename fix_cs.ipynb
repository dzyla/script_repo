{
 "cells": [
  {
   "cell_type": "code",
   "execution_count": 47,
   "metadata": {},
   "outputs": [
    {
     "name": "stdout",
     "output_type": "stream",
     "text": [
      "0 /mnt/HDD/Dawid_CS/CS-measles-hdd-gpu/J1467/J1467_passthrough_micrographs.cs\n",
      "1 /mnt/HDD/Dawid_CS/CS-measles-hdd-gpu/J1467/J1467_passthrough_micrographs_incomplete.cs\n",
      "2 /mnt/HDD/Dawid_CS/CS-measles-hdd-gpu/J1467/J1467_passthrough_particles.cs\n",
      "3 /mnt/HDD/Dawid_CS/CS-measles-hdd-gpu/J1467/extracted_particles.cs\n",
      "4 /mnt/HDD/Dawid_CS/CS-measles-hdd-gpu/J1467/incomplete_micrographs.cs\n",
      "5 /mnt/HDD/Dawid_CS/CS-measles-hdd-gpu/J1467/picked_micrographs.cs\n"
     ]
    }
   ],
   "source": [
    "import glob\n",
    "import numpy as np\n",
    "\n",
    "# extract job location\n",
    "folder_to_fix = '/mnt/HDD/CS-hdd-gpu/J1467/'\n",
    "\n",
    "files = np.array(sorted(glob.glob(folder_to_fix + '/*.cs')))\n",
    "for n, file in enumerate(files):\n",
    "    print(f'{n} {file}')"
   ]
  },
  {
   "cell_type": "code",
   "execution_count": 48,
   "metadata": {},
   "outputs": [
    {
     "name": "stdout",
     "output_type": "stream",
     "text": [
      "0 /mnt/HDD/Dawid_CS/CS-measles-hdd-gpu/J1467/J1467_passthrough_particles.cs\n",
      "1 /mnt/HDD/Dawid_CS/CS-measles-hdd-gpu/J1467/extracted_particles.cs\n"
     ]
    }
   ],
   "source": [
    "# select here extracted particles and passthrough particles files\n",
    "files_to_fix = files[[2,3]]\n",
    "\n",
    "for n, file in enumerate(files_to_fix):\n",
    "    print(f'{n} {file}')\n",
    "    \n",
    "# make sure only those to are listed"
   ]
  },
  {
   "cell_type": "code",
   "execution_count": 57,
   "metadata": {},
   "outputs": [
    {
     "name": "stdout",
     "output_type": "stream",
     "text": [
      "[('uid', '<u8'), ('pick_stats/ncc_score', '<f4'), ('pick_stats/power', '<f4'), ('pick_stats/template_idx', '<u4'), ('pick_stats/angle_rad', '<f4'), ('ml_properties/type', 'S6')]\n",
      "[('uid', '<u8'), ('blob/path', 'S122'), ('blob/idx', '<u4'), ('blob/shape', '<u4', (2,)), ('blob/psize_A', '<f4'), ('blob/sign', '<f4'), ('blob/import_sig', '<u8'), ('location/micrograph_uid', '<u8'), ('location/exp_group_id', '<u4'), ('location/micrograph_path', 'S118'), ('location/micrograph_shape', '<u4', (2,)), ('location/micrograph_psize_A', '<f4'), ('location/center_x_frac', '<f4'), ('location/center_y_frac', '<f4'), ('ctf/type', 'S7'), ('ctf/exp_group_id', '<u4'), ('ctf/accel_kv', '<f4'), ('ctf/cs_mm', '<f4'), ('ctf/amp_contrast', '<f4'), ('ctf/df1_A', '<f4'), ('ctf/df2_A', '<f4'), ('ctf/df_angle_rad', '<f4'), ('ctf/phase_shift_rad', '<f4'), ('ctf/scale', '<f4'), ('ctf/scale_const', '<f4'), ('ctf/shift_A', '<f4', (2,)), ('ctf/tilt_A', '<f4', (2,)), ('ctf/trefoil_A', '<f4', (2,)), ('ctf/tetra_A', '<f4', (4,)), ('ctf/anisomag', '<f4', (4,)), ('ctf/bfactor', '<f4'), ('alignments2D/split', '<u4'), ('alignments2D/shift', '<f4', (2,)), ('alignments2D/pose', '<f4'), ('alignments2D/psize_A', '<f4'), ('alignments2D/error', '<f4'), ('alignments2D/error_min', '<f4'), ('alignments2D/resid_pow', '<f4'), ('alignments2D/slice_pow', '<f4'), ('alignments2D/image_pow', '<f4'), ('alignments2D/cross_cor', '<f4'), ('alignments2D/alpha', '<f4'), ('alignments2D/alpha_min', '<f4'), ('alignments2D/weight', '<f4'), ('alignments2D/pose_ess', '<f4'), ('alignments2D/shift_ess', '<f4'), ('alignments2D/class_posterior', '<f4'), ('alignments2D/class', '<u4'), ('alignments2D/class_ess', '<f4')]\n",
      "[ 9668  9669  9670  9671  9672  9673 24052 24053 24054 24055 24056]\n"
     ]
    }
   ],
   "source": [
    "# those need to identified inside cryosparc job shown in the error message\n",
    "broken_path = [b'J1467/extract/FoilHole_22118001_Data_22118427_22118429_20240422_170657_fractions_patch_aligned_doseweighted_particles.mrc',\n",
    "               b'J1467/extract/FoilHole_22118002_Data_22118430_22118432_20240422_170834_fractions_patch_aligned_doseweighted_particles.mrc',\n",
    "               b'J1467/extract/FoilHole_22118025_Data_22118433_22118435_20240422_173624_fractions_patch_aligned_doseweighted_particles.mrc',\n",
    "               b'J1467/extract/FoilHole_22118044_Data_22118445_22118447_20240422_180307_fractions_patch_aligned_doseweighted_particles.mrc',\n",
    "               b'J1467/extract/FoilHole_22118001_Data_22118430_22118432_20240422_170705_fractions_patch_aligned_doseweighted_particles.mrc',\n",
    "               b'J1467/extract/FoilHole_22118029_Data_22118433_22118435_20240422_174116_fractions_patch_aligned_doseweighted_particles.mrc',\n",
    "               b'J1467/extract/FoilHole_22118018_Data_22118442_22118444_20240422_172444_fractions_patch_aligned_doseweighted_particles.mrc',\n",
    "               b'J1467/extract/FoilHole_22118003_Data_22118427_22118429_20240422_170958_fractions_patch_aligned_doseweighted_particles.mrc',\n",
    "               b'J1467/extract/FoilHole_22118031_Data_22118430_22118432_20240422_174421_fractions_patch_aligned_doseweighted_particles.mrc']\n",
    "\n",
    "for file in files_to_fix:\n",
    "    file = np.load(file, allow_pickle=False)\n",
    "    print(file.dtype)\n",
    "    try:\n",
    "        to_remove = np.where(np.isin(file['blob/path'], broken_path))[0]\n",
    "        print(to_remove)\n",
    "    except:\n",
    "        pass"
   ]
  },
  {
   "cell_type": "code",
   "execution_count": 58,
   "metadata": {},
   "outputs": [],
   "source": [
    "import shutil\n",
    "import time\n",
    "\n",
    "for file_path in files_to_fix:\n",
    "        # Load the numpy array\n",
    "        data = np.load(file_path, allow_pickle=False)\n",
    "        \n",
    "        # Assuming to_remove is an array of indices, use np.delete to remove rows\n",
    "        modified_data = np.delete(data, to_remove, axis=0)\n",
    "        \n",
    "        # Backup the original file\n",
    "        backup_path = file_path + f'.bak{int(time.time())}'\n",
    "        shutil.move(file_path, backup_path)\n",
    "        \n",
    "        # Save the modified array, defining dtypes if needed\n",
    "        np.save(file_path, modified_data, allow_pickle=False)\n",
    "        shutil.move(file_path+'.npy', file_path)   "
   ]
  }
 ],
 "metadata": {
  "kernelspec": {
   "display_name": "openmm",
   "language": "python",
   "name": "python3"
  },
  "language_info": {
   "codemirror_mode": {
    "name": "ipython",
    "version": 3
   },
   "file_extension": ".py",
   "mimetype": "text/x-python",
   "name": "python",
   "nbconvert_exporter": "python",
   "pygments_lexer": "ipython3",
   "version": "3.11.7"
  }
 },
 "nbformat": 4,
 "nbformat_minor": 2
}
